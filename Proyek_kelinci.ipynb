{
  "nbformat": 4,
  "nbformat_minor": 0,
  "metadata": {
    "colab": {
      "provenance": [],
      "authorship_tag": "ABX9TyOVwP8TdeDVVV0QCg4QK1pW",
      "include_colab_link": true
    },
    "kernelspec": {
      "name": "python3",
      "display_name": "Python 3"
    },
    "language_info": {
      "name": "python"
    }
  },
  "cells": [
    {
      "cell_type": "markdown",
      "metadata": {
        "id": "view-in-github",
        "colab_type": "text"
      },
      "source": [
        "<a href=\"https://colab.research.google.com/github/ovian4016-dot/produksi-kelinci-ml/blob/main/Proyek_kelinci.ipynb\" target=\"_parent\"><img src=\"https://colab.research.google.com/assets/colab-badge.svg\" alt=\"Open In Colab\"/></a>"
      ]
    },
    {
      "cell_type": "markdown",
      "source": [
        "## Analisis Faktor-Faktor Produksi Kelinci di Kecamatan Bumiaji\n",
        "Proyek ini bertujuan untuk mengetahui faktor-faktor yang memengaruhi produksi kelinci, menggunakan model regresi linear berbasis data peternak."
      ],
      "metadata": {
        "id": "TxsO1YvYd1QO"
      }
    },
    {
      "cell_type": "markdown",
      "source": [
        "## 1. Import Library & Load Dataset"
      ],
      "metadata": {
        "id": "OlPyYzg0gYhe"
      }
    },
    {
      "cell_type": "code",
      "execution_count": null,
      "metadata": {
        "id": "k_nsT7-sjrbS",
        "colab": {
          "base_uri": "https://localhost:8080/"
        },
        "outputId": "f18f6277-a18a-4b09-9840-9fbfd5c226f0"
      },
      "outputs": [
        {
          "output_type": "stream",
          "name": "stdout",
          "text": [
            "Mounted at /content/drive\n"
          ]
        }
      ],
      "source": [
        "from google.colab import drive\n",
        "drive.mount('/content/drive')"
      ]
    },
    {
      "cell_type": "code",
      "source": [
        "import pandas as pd\n",
        "import numpy as np\n",
        "import seaborn as sns\n",
        "import matplotlib.pyplot as plt\n",
        "\n",
        "from sklearn.model_selection import train_test_split\n",
        "from sklearn.linear_model import LinearRegression\n",
        "from sklearn.tree import DecisionTreeRegressor\n",
        "from sklearn.metrics import mean_absolute_error, mean_squared_error, r2_score\n",
        "from sklearn.preprocessing import StandardScaler\n",
        "\n",
        "# Load dataset\n",
        "df = pd.read_csv('/content/drive/MyDrive/Proyek Kelinci/data_produksi_kelinci.csv')"
      ],
      "metadata": {
        "id": "v10y8xlTg0XR"
      },
      "execution_count": null,
      "outputs": []
    },
    {
      "cell_type": "markdown",
      "source": [
        "## 2. Eksplorasi Data Awal"
      ],
      "metadata": {
        "id": "SZQkshbEnKH6"
      }
    },
    {
      "cell_type": "code",
      "source": [
        "df.head()"
      ],
      "metadata": {
        "colab": {
          "base_uri": "https://localhost:8080/",
          "height": 226
        },
        "id": "Wtsv_S87l9vr",
        "outputId": "bf54f8c3-f5aa-4278-81c6-b0d21a6e8469"
      },
      "execution_count": null,
      "outputs": [
        {
          "output_type": "execute_result",
          "data": {
            "text/plain": [
              "   Produksi     Modal  Lahan  Keterampilan     Pakan\n",
              "0       100    500000     20            90   1300000\n",
              "1        40   2000000     50            15   1000000\n",
              "2      3000  50000000    255            75  15000000\n",
              "3       105   2500000     28            30   1440000\n",
              "4       100   1450000     20            50    750000"
            ],
            "text/html": [
              "\n",
              "  <div id=\"df-3e42991a-23c0-4e19-b36b-a4e2d4800039\" class=\"colab-df-container\">\n",
              "    <div>\n",
              "<style scoped>\n",
              "    .dataframe tbody tr th:only-of-type {\n",
              "        vertical-align: middle;\n",
              "    }\n",
              "\n",
              "    .dataframe tbody tr th {\n",
              "        vertical-align: top;\n",
              "    }\n",
              "\n",
              "    .dataframe thead th {\n",
              "        text-align: right;\n",
              "    }\n",
              "</style>\n",
              "<table border=\"1\" class=\"dataframe\">\n",
              "  <thead>\n",
              "    <tr style=\"text-align: right;\">\n",
              "      <th></th>\n",
              "      <th>Produksi</th>\n",
              "      <th>Modal</th>\n",
              "      <th>Lahan</th>\n",
              "      <th>Keterampilan</th>\n",
              "      <th>Pakan</th>\n",
              "    </tr>\n",
              "  </thead>\n",
              "  <tbody>\n",
              "    <tr>\n",
              "      <th>0</th>\n",
              "      <td>100</td>\n",
              "      <td>500000</td>\n",
              "      <td>20</td>\n",
              "      <td>90</td>\n",
              "      <td>1300000</td>\n",
              "    </tr>\n",
              "    <tr>\n",
              "      <th>1</th>\n",
              "      <td>40</td>\n",
              "      <td>2000000</td>\n",
              "      <td>50</td>\n",
              "      <td>15</td>\n",
              "      <td>1000000</td>\n",
              "    </tr>\n",
              "    <tr>\n",
              "      <th>2</th>\n",
              "      <td>3000</td>\n",
              "      <td>50000000</td>\n",
              "      <td>255</td>\n",
              "      <td>75</td>\n",
              "      <td>15000000</td>\n",
              "    </tr>\n",
              "    <tr>\n",
              "      <th>3</th>\n",
              "      <td>105</td>\n",
              "      <td>2500000</td>\n",
              "      <td>28</td>\n",
              "      <td>30</td>\n",
              "      <td>1440000</td>\n",
              "    </tr>\n",
              "    <tr>\n",
              "      <th>4</th>\n",
              "      <td>100</td>\n",
              "      <td>1450000</td>\n",
              "      <td>20</td>\n",
              "      <td>50</td>\n",
              "      <td>750000</td>\n",
              "    </tr>\n",
              "  </tbody>\n",
              "</table>\n",
              "</div>\n",
              "    <div class=\"colab-df-buttons\">\n",
              "\n",
              "  <div class=\"colab-df-container\">\n",
              "    <button class=\"colab-df-convert\" onclick=\"convertToInteractive('df-3e42991a-23c0-4e19-b36b-a4e2d4800039')\"\n",
              "            title=\"Convert this dataframe to an interactive table.\"\n",
              "            style=\"display:none;\">\n",
              "\n",
              "  <svg xmlns=\"http://www.w3.org/2000/svg\" height=\"24px\" viewBox=\"0 -960 960 960\">\n",
              "    <path d=\"M120-120v-720h720v720H120Zm60-500h600v-160H180v160Zm220 220h160v-160H400v160Zm0 220h160v-160H400v160ZM180-400h160v-160H180v160Zm440 0h160v-160H620v160ZM180-180h160v-160H180v160Zm440 0h160v-160H620v160Z\"/>\n",
              "  </svg>\n",
              "    </button>\n",
              "\n",
              "  <style>\n",
              "    .colab-df-container {\n",
              "      display:flex;\n",
              "      gap: 12px;\n",
              "    }\n",
              "\n",
              "    .colab-df-convert {\n",
              "      background-color: #E8F0FE;\n",
              "      border: none;\n",
              "      border-radius: 50%;\n",
              "      cursor: pointer;\n",
              "      display: none;\n",
              "      fill: #1967D2;\n",
              "      height: 32px;\n",
              "      padding: 0 0 0 0;\n",
              "      width: 32px;\n",
              "    }\n",
              "\n",
              "    .colab-df-convert:hover {\n",
              "      background-color: #E2EBFA;\n",
              "      box-shadow: 0px 1px 2px rgba(60, 64, 67, 0.3), 0px 1px 3px 1px rgba(60, 64, 67, 0.15);\n",
              "      fill: #174EA6;\n",
              "    }\n",
              "\n",
              "    .colab-df-buttons div {\n",
              "      margin-bottom: 4px;\n",
              "    }\n",
              "\n",
              "    [theme=dark] .colab-df-convert {\n",
              "      background-color: #3B4455;\n",
              "      fill: #D2E3FC;\n",
              "    }\n",
              "\n",
              "    [theme=dark] .colab-df-convert:hover {\n",
              "      background-color: #434B5C;\n",
              "      box-shadow: 0px 1px 3px 1px rgba(0, 0, 0, 0.15);\n",
              "      filter: drop-shadow(0px 1px 2px rgba(0, 0, 0, 0.3));\n",
              "      fill: #FFFFFF;\n",
              "    }\n",
              "  </style>\n",
              "\n",
              "    <script>\n",
              "      const buttonEl =\n",
              "        document.querySelector('#df-3e42991a-23c0-4e19-b36b-a4e2d4800039 button.colab-df-convert');\n",
              "      buttonEl.style.display =\n",
              "        google.colab.kernel.accessAllowed ? 'block' : 'none';\n",
              "\n",
              "      async function convertToInteractive(key) {\n",
              "        const element = document.querySelector('#df-3e42991a-23c0-4e19-b36b-a4e2d4800039');\n",
              "        const dataTable =\n",
              "          await google.colab.kernel.invokeFunction('convertToInteractive',\n",
              "                                                    [key], {});\n",
              "        if (!dataTable) return;\n",
              "\n",
              "        const docLinkHtml = 'Like what you see? Visit the ' +\n",
              "          '<a target=\"_blank\" href=https://colab.research.google.com/notebooks/data_table.ipynb>data table notebook</a>'\n",
              "          + ' to learn more about interactive tables.';\n",
              "        element.innerHTML = '';\n",
              "        dataTable['output_type'] = 'display_data';\n",
              "        await google.colab.output.renderOutput(dataTable, element);\n",
              "        const docLink = document.createElement('div');\n",
              "        docLink.innerHTML = docLinkHtml;\n",
              "        element.appendChild(docLink);\n",
              "      }\n",
              "    </script>\n",
              "  </div>\n",
              "\n",
              "\n",
              "    <div id=\"df-f2b1196d-a037-49fa-9f38-7872d595bb45\">\n",
              "      <button class=\"colab-df-quickchart\" onclick=\"quickchart('df-f2b1196d-a037-49fa-9f38-7872d595bb45')\"\n",
              "                title=\"Suggest charts\"\n",
              "                style=\"display:none;\">\n",
              "\n",
              "<svg xmlns=\"http://www.w3.org/2000/svg\" height=\"24px\"viewBox=\"0 0 24 24\"\n",
              "     width=\"24px\">\n",
              "    <g>\n",
              "        <path d=\"M19 3H5c-1.1 0-2 .9-2 2v14c0 1.1.9 2 2 2h14c1.1 0 2-.9 2-2V5c0-1.1-.9-2-2-2zM9 17H7v-7h2v7zm4 0h-2V7h2v10zm4 0h-2v-4h2v4z\"/>\n",
              "    </g>\n",
              "</svg>\n",
              "      </button>\n",
              "\n",
              "<style>\n",
              "  .colab-df-quickchart {\n",
              "      --bg-color: #E8F0FE;\n",
              "      --fill-color: #1967D2;\n",
              "      --hover-bg-color: #E2EBFA;\n",
              "      --hover-fill-color: #174EA6;\n",
              "      --disabled-fill-color: #AAA;\n",
              "      --disabled-bg-color: #DDD;\n",
              "  }\n",
              "\n",
              "  [theme=dark] .colab-df-quickchart {\n",
              "      --bg-color: #3B4455;\n",
              "      --fill-color: #D2E3FC;\n",
              "      --hover-bg-color: #434B5C;\n",
              "      --hover-fill-color: #FFFFFF;\n",
              "      --disabled-bg-color: #3B4455;\n",
              "      --disabled-fill-color: #666;\n",
              "  }\n",
              "\n",
              "  .colab-df-quickchart {\n",
              "    background-color: var(--bg-color);\n",
              "    border: none;\n",
              "    border-radius: 50%;\n",
              "    cursor: pointer;\n",
              "    display: none;\n",
              "    fill: var(--fill-color);\n",
              "    height: 32px;\n",
              "    padding: 0;\n",
              "    width: 32px;\n",
              "  }\n",
              "\n",
              "  .colab-df-quickchart:hover {\n",
              "    background-color: var(--hover-bg-color);\n",
              "    box-shadow: 0 1px 2px rgba(60, 64, 67, 0.3), 0 1px 3px 1px rgba(60, 64, 67, 0.15);\n",
              "    fill: var(--button-hover-fill-color);\n",
              "  }\n",
              "\n",
              "  .colab-df-quickchart-complete:disabled,\n",
              "  .colab-df-quickchart-complete:disabled:hover {\n",
              "    background-color: var(--disabled-bg-color);\n",
              "    fill: var(--disabled-fill-color);\n",
              "    box-shadow: none;\n",
              "  }\n",
              "\n",
              "  .colab-df-spinner {\n",
              "    border: 2px solid var(--fill-color);\n",
              "    border-color: transparent;\n",
              "    border-bottom-color: var(--fill-color);\n",
              "    animation:\n",
              "      spin 1s steps(1) infinite;\n",
              "  }\n",
              "\n",
              "  @keyframes spin {\n",
              "    0% {\n",
              "      border-color: transparent;\n",
              "      border-bottom-color: var(--fill-color);\n",
              "      border-left-color: var(--fill-color);\n",
              "    }\n",
              "    20% {\n",
              "      border-color: transparent;\n",
              "      border-left-color: var(--fill-color);\n",
              "      border-top-color: var(--fill-color);\n",
              "    }\n",
              "    30% {\n",
              "      border-color: transparent;\n",
              "      border-left-color: var(--fill-color);\n",
              "      border-top-color: var(--fill-color);\n",
              "      border-right-color: var(--fill-color);\n",
              "    }\n",
              "    40% {\n",
              "      border-color: transparent;\n",
              "      border-right-color: var(--fill-color);\n",
              "      border-top-color: var(--fill-color);\n",
              "    }\n",
              "    60% {\n",
              "      border-color: transparent;\n",
              "      border-right-color: var(--fill-color);\n",
              "    }\n",
              "    80% {\n",
              "      border-color: transparent;\n",
              "      border-right-color: var(--fill-color);\n",
              "      border-bottom-color: var(--fill-color);\n",
              "    }\n",
              "    90% {\n",
              "      border-color: transparent;\n",
              "      border-bottom-color: var(--fill-color);\n",
              "    }\n",
              "  }\n",
              "</style>\n",
              "\n",
              "      <script>\n",
              "        async function quickchart(key) {\n",
              "          const quickchartButtonEl =\n",
              "            document.querySelector('#' + key + ' button');\n",
              "          quickchartButtonEl.disabled = true;  // To prevent multiple clicks.\n",
              "          quickchartButtonEl.classList.add('colab-df-spinner');\n",
              "          try {\n",
              "            const charts = await google.colab.kernel.invokeFunction(\n",
              "                'suggestCharts', [key], {});\n",
              "          } catch (error) {\n",
              "            console.error('Error during call to suggestCharts:', error);\n",
              "          }\n",
              "          quickchartButtonEl.classList.remove('colab-df-spinner');\n",
              "          quickchartButtonEl.classList.add('colab-df-quickchart-complete');\n",
              "        }\n",
              "        (() => {\n",
              "          let quickchartButtonEl =\n",
              "            document.querySelector('#df-f2b1196d-a037-49fa-9f38-7872d595bb45 button');\n",
              "          quickchartButtonEl.style.display =\n",
              "            google.colab.kernel.accessAllowed ? 'block' : 'none';\n",
              "        })();\n",
              "      </script>\n",
              "    </div>\n",
              "\n",
              "    </div>\n",
              "  </div>\n"
            ],
            "application/vnd.google.colaboratory.intrinsic+json": {
              "type": "dataframe",
              "variable_name": "df",
              "summary": "{\n  \"name\": \"df\",\n  \"rows\": 30,\n  \"fields\": [\n    {\n      \"column\": \"Produksi\",\n      \"properties\": {\n        \"dtype\": \"number\",\n        \"std\": 625,\n        \"min\": 20,\n        \"max\": 3000,\n        \"num_unique_values\": 14,\n        \"samples\": [\n          50,\n          2000,\n          100\n        ],\n        \"semantic_type\": \"\",\n        \"description\": \"\"\n      }\n    },\n    {\n      \"column\": \"Modal\",\n      \"properties\": {\n        \"dtype\": \"number\",\n        \"std\": 9742676,\n        \"min\": 400000,\n        \"max\": 50000000,\n        \"num_unique_values\": 26,\n        \"samples\": [\n          7500000,\n          25000000,\n          500000\n        ],\n        \"semantic_type\": \"\",\n        \"description\": \"\"\n      }\n    },\n    {\n      \"column\": \"Lahan\",\n      \"properties\": {\n        \"dtype\": \"number\",\n        \"std\": 53,\n        \"min\": 20,\n        \"max\": 255,\n        \"num_unique_values\": 23,\n        \"samples\": [\n          48,\n          84,\n          20\n        ],\n        \"semantic_type\": \"\",\n        \"description\": \"\"\n      }\n    },\n    {\n      \"column\": \"Keterampilan\",\n      \"properties\": {\n        \"dtype\": \"number\",\n        \"std\": 24,\n        \"min\": 5,\n        \"max\": 90,\n        \"num_unique_values\": 9,\n        \"samples\": [\n          20,\n          15,\n          40\n        ],\n        \"semantic_type\": \"\",\n        \"description\": \"\"\n      }\n    },\n    {\n      \"column\": \"Pakan\",\n      \"properties\": {\n        \"dtype\": \"number\",\n        \"std\": 4183717,\n        \"min\": 250000,\n        \"max\": 20000000,\n        \"num_unique_values\": 18,\n        \"samples\": [\n          1300000,\n          1000000,\n          2100000\n        ],\n        \"semantic_type\": \"\",\n        \"description\": \"\"\n      }\n    }\n  ]\n}"
            }
          },
          "metadata": {},
          "execution_count": 3
        }
      ]
    },
    {
      "cell_type": "code",
      "source": [
        "df.describe()"
      ],
      "metadata": {
        "colab": {
          "base_uri": "https://localhost:8080/",
          "height": 320
        },
        "id": "wDuR-ljlmVlO",
        "outputId": "982397d3-f87c-4474-b1c2-b67f4d40806c"
      },
      "execution_count": null,
      "outputs": [
        {
          "output_type": "execute_result",
          "data": {
            "text/plain": [
              "          Produksi         Modal       Lahan  Keterampilan         Pakan\n",
              "count    30.000000  3.000000e+01   30.000000     30.000000  3.000000e+01\n",
              "mean    276.000000  5.025333e+06   70.366667     52.333333  2.552333e+06\n",
              "std     625.012276  9.742677e+06   53.986258     24.555824  4.183718e+06\n",
              "min      20.000000  4.000000e+05   20.000000      5.000000  2.500000e+05\n",
              "25%      60.000000  1.200000e+06   31.500000     32.500000  1.000000e+06\n",
              "50%     100.000000  1.660000e+06   50.500000     57.500000  1.500000e+06\n",
              "75%     150.000000  3.600000e+06   83.000000     65.000000  2.000000e+06\n",
              "max    3000.000000  5.000000e+07  255.000000     90.000000  2.000000e+07"
            ],
            "text/html": [
              "\n",
              "  <div id=\"df-769970c0-bd32-4ab8-845a-ba97052e9531\" class=\"colab-df-container\">\n",
              "    <div>\n",
              "<style scoped>\n",
              "    .dataframe tbody tr th:only-of-type {\n",
              "        vertical-align: middle;\n",
              "    }\n",
              "\n",
              "    .dataframe tbody tr th {\n",
              "        vertical-align: top;\n",
              "    }\n",
              "\n",
              "    .dataframe thead th {\n",
              "        text-align: right;\n",
              "    }\n",
              "</style>\n",
              "<table border=\"1\" class=\"dataframe\">\n",
              "  <thead>\n",
              "    <tr style=\"text-align: right;\">\n",
              "      <th></th>\n",
              "      <th>Produksi</th>\n",
              "      <th>Modal</th>\n",
              "      <th>Lahan</th>\n",
              "      <th>Keterampilan</th>\n",
              "      <th>Pakan</th>\n",
              "    </tr>\n",
              "  </thead>\n",
              "  <tbody>\n",
              "    <tr>\n",
              "      <th>count</th>\n",
              "      <td>30.000000</td>\n",
              "      <td>3.000000e+01</td>\n",
              "      <td>30.000000</td>\n",
              "      <td>30.000000</td>\n",
              "      <td>3.000000e+01</td>\n",
              "    </tr>\n",
              "    <tr>\n",
              "      <th>mean</th>\n",
              "      <td>276.000000</td>\n",
              "      <td>5.025333e+06</td>\n",
              "      <td>70.366667</td>\n",
              "      <td>52.333333</td>\n",
              "      <td>2.552333e+06</td>\n",
              "    </tr>\n",
              "    <tr>\n",
              "      <th>std</th>\n",
              "      <td>625.012276</td>\n",
              "      <td>9.742677e+06</td>\n",
              "      <td>53.986258</td>\n",
              "      <td>24.555824</td>\n",
              "      <td>4.183718e+06</td>\n",
              "    </tr>\n",
              "    <tr>\n",
              "      <th>min</th>\n",
              "      <td>20.000000</td>\n",
              "      <td>4.000000e+05</td>\n",
              "      <td>20.000000</td>\n",
              "      <td>5.000000</td>\n",
              "      <td>2.500000e+05</td>\n",
              "    </tr>\n",
              "    <tr>\n",
              "      <th>25%</th>\n",
              "      <td>60.000000</td>\n",
              "      <td>1.200000e+06</td>\n",
              "      <td>31.500000</td>\n",
              "      <td>32.500000</td>\n",
              "      <td>1.000000e+06</td>\n",
              "    </tr>\n",
              "    <tr>\n",
              "      <th>50%</th>\n",
              "      <td>100.000000</td>\n",
              "      <td>1.660000e+06</td>\n",
              "      <td>50.500000</td>\n",
              "      <td>57.500000</td>\n",
              "      <td>1.500000e+06</td>\n",
              "    </tr>\n",
              "    <tr>\n",
              "      <th>75%</th>\n",
              "      <td>150.000000</td>\n",
              "      <td>3.600000e+06</td>\n",
              "      <td>83.000000</td>\n",
              "      <td>65.000000</td>\n",
              "      <td>2.000000e+06</td>\n",
              "    </tr>\n",
              "    <tr>\n",
              "      <th>max</th>\n",
              "      <td>3000.000000</td>\n",
              "      <td>5.000000e+07</td>\n",
              "      <td>255.000000</td>\n",
              "      <td>90.000000</td>\n",
              "      <td>2.000000e+07</td>\n",
              "    </tr>\n",
              "  </tbody>\n",
              "</table>\n",
              "</div>\n",
              "    <div class=\"colab-df-buttons\">\n",
              "\n",
              "  <div class=\"colab-df-container\">\n",
              "    <button class=\"colab-df-convert\" onclick=\"convertToInteractive('df-769970c0-bd32-4ab8-845a-ba97052e9531')\"\n",
              "            title=\"Convert this dataframe to an interactive table.\"\n",
              "            style=\"display:none;\">\n",
              "\n",
              "  <svg xmlns=\"http://www.w3.org/2000/svg\" height=\"24px\" viewBox=\"0 -960 960 960\">\n",
              "    <path d=\"M120-120v-720h720v720H120Zm60-500h600v-160H180v160Zm220 220h160v-160H400v160Zm0 220h160v-160H400v160ZM180-400h160v-160H180v160Zm440 0h160v-160H620v160ZM180-180h160v-160H180v160Zm440 0h160v-160H620v160Z\"/>\n",
              "  </svg>\n",
              "    </button>\n",
              "\n",
              "  <style>\n",
              "    .colab-df-container {\n",
              "      display:flex;\n",
              "      gap: 12px;\n",
              "    }\n",
              "\n",
              "    .colab-df-convert {\n",
              "      background-color: #E8F0FE;\n",
              "      border: none;\n",
              "      border-radius: 50%;\n",
              "      cursor: pointer;\n",
              "      display: none;\n",
              "      fill: #1967D2;\n",
              "      height: 32px;\n",
              "      padding: 0 0 0 0;\n",
              "      width: 32px;\n",
              "    }\n",
              "\n",
              "    .colab-df-convert:hover {\n",
              "      background-color: #E2EBFA;\n",
              "      box-shadow: 0px 1px 2px rgba(60, 64, 67, 0.3), 0px 1px 3px 1px rgba(60, 64, 67, 0.15);\n",
              "      fill: #174EA6;\n",
              "    }\n",
              "\n",
              "    .colab-df-buttons div {\n",
              "      margin-bottom: 4px;\n",
              "    }\n",
              "\n",
              "    [theme=dark] .colab-df-convert {\n",
              "      background-color: #3B4455;\n",
              "      fill: #D2E3FC;\n",
              "    }\n",
              "\n",
              "    [theme=dark] .colab-df-convert:hover {\n",
              "      background-color: #434B5C;\n",
              "      box-shadow: 0px 1px 3px 1px rgba(0, 0, 0, 0.15);\n",
              "      filter: drop-shadow(0px 1px 2px rgba(0, 0, 0, 0.3));\n",
              "      fill: #FFFFFF;\n",
              "    }\n",
              "  </style>\n",
              "\n",
              "    <script>\n",
              "      const buttonEl =\n",
              "        document.querySelector('#df-769970c0-bd32-4ab8-845a-ba97052e9531 button.colab-df-convert');\n",
              "      buttonEl.style.display =\n",
              "        google.colab.kernel.accessAllowed ? 'block' : 'none';\n",
              "\n",
              "      async function convertToInteractive(key) {\n",
              "        const element = document.querySelector('#df-769970c0-bd32-4ab8-845a-ba97052e9531');\n",
              "        const dataTable =\n",
              "          await google.colab.kernel.invokeFunction('convertToInteractive',\n",
              "                                                    [key], {});\n",
              "        if (!dataTable) return;\n",
              "\n",
              "        const docLinkHtml = 'Like what you see? Visit the ' +\n",
              "          '<a target=\"_blank\" href=https://colab.research.google.com/notebooks/data_table.ipynb>data table notebook</a>'\n",
              "          + ' to learn more about interactive tables.';\n",
              "        element.innerHTML = '';\n",
              "        dataTable['output_type'] = 'display_data';\n",
              "        await google.colab.output.renderOutput(dataTable, element);\n",
              "        const docLink = document.createElement('div');\n",
              "        docLink.innerHTML = docLinkHtml;\n",
              "        element.appendChild(docLink);\n",
              "      }\n",
              "    </script>\n",
              "  </div>\n",
              "\n",
              "\n",
              "    <div id=\"df-0d3a0e8b-e250-4fa4-bc28-8b30017c7d7c\">\n",
              "      <button class=\"colab-df-quickchart\" onclick=\"quickchart('df-0d3a0e8b-e250-4fa4-bc28-8b30017c7d7c')\"\n",
              "                title=\"Suggest charts\"\n",
              "                style=\"display:none;\">\n",
              "\n",
              "<svg xmlns=\"http://www.w3.org/2000/svg\" height=\"24px\"viewBox=\"0 0 24 24\"\n",
              "     width=\"24px\">\n",
              "    <g>\n",
              "        <path d=\"M19 3H5c-1.1 0-2 .9-2 2v14c0 1.1.9 2 2 2h14c1.1 0 2-.9 2-2V5c0-1.1-.9-2-2-2zM9 17H7v-7h2v7zm4 0h-2V7h2v10zm4 0h-2v-4h2v4z\"/>\n",
              "    </g>\n",
              "</svg>\n",
              "      </button>\n",
              "\n",
              "<style>\n",
              "  .colab-df-quickchart {\n",
              "      --bg-color: #E8F0FE;\n",
              "      --fill-color: #1967D2;\n",
              "      --hover-bg-color: #E2EBFA;\n",
              "      --hover-fill-color: #174EA6;\n",
              "      --disabled-fill-color: #AAA;\n",
              "      --disabled-bg-color: #DDD;\n",
              "  }\n",
              "\n",
              "  [theme=dark] .colab-df-quickchart {\n",
              "      --bg-color: #3B4455;\n",
              "      --fill-color: #D2E3FC;\n",
              "      --hover-bg-color: #434B5C;\n",
              "      --hover-fill-color: #FFFFFF;\n",
              "      --disabled-bg-color: #3B4455;\n",
              "      --disabled-fill-color: #666;\n",
              "  }\n",
              "\n",
              "  .colab-df-quickchart {\n",
              "    background-color: var(--bg-color);\n",
              "    border: none;\n",
              "    border-radius: 50%;\n",
              "    cursor: pointer;\n",
              "    display: none;\n",
              "    fill: var(--fill-color);\n",
              "    height: 32px;\n",
              "    padding: 0;\n",
              "    width: 32px;\n",
              "  }\n",
              "\n",
              "  .colab-df-quickchart:hover {\n",
              "    background-color: var(--hover-bg-color);\n",
              "    box-shadow: 0 1px 2px rgba(60, 64, 67, 0.3), 0 1px 3px 1px rgba(60, 64, 67, 0.15);\n",
              "    fill: var(--button-hover-fill-color);\n",
              "  }\n",
              "\n",
              "  .colab-df-quickchart-complete:disabled,\n",
              "  .colab-df-quickchart-complete:disabled:hover {\n",
              "    background-color: var(--disabled-bg-color);\n",
              "    fill: var(--disabled-fill-color);\n",
              "    box-shadow: none;\n",
              "  }\n",
              "\n",
              "  .colab-df-spinner {\n",
              "    border: 2px solid var(--fill-color);\n",
              "    border-color: transparent;\n",
              "    border-bottom-color: var(--fill-color);\n",
              "    animation:\n",
              "      spin 1s steps(1) infinite;\n",
              "  }\n",
              "\n",
              "  @keyframes spin {\n",
              "    0% {\n",
              "      border-color: transparent;\n",
              "      border-bottom-color: var(--fill-color);\n",
              "      border-left-color: var(--fill-color);\n",
              "    }\n",
              "    20% {\n",
              "      border-color: transparent;\n",
              "      border-left-color: var(--fill-color);\n",
              "      border-top-color: var(--fill-color);\n",
              "    }\n",
              "    30% {\n",
              "      border-color: transparent;\n",
              "      border-left-color: var(--fill-color);\n",
              "      border-top-color: var(--fill-color);\n",
              "      border-right-color: var(--fill-color);\n",
              "    }\n",
              "    40% {\n",
              "      border-color: transparent;\n",
              "      border-right-color: var(--fill-color);\n",
              "      border-top-color: var(--fill-color);\n",
              "    }\n",
              "    60% {\n",
              "      border-color: transparent;\n",
              "      border-right-color: var(--fill-color);\n",
              "    }\n",
              "    80% {\n",
              "      border-color: transparent;\n",
              "      border-right-color: var(--fill-color);\n",
              "      border-bottom-color: var(--fill-color);\n",
              "    }\n",
              "    90% {\n",
              "      border-color: transparent;\n",
              "      border-bottom-color: var(--fill-color);\n",
              "    }\n",
              "  }\n",
              "</style>\n",
              "\n",
              "      <script>\n",
              "        async function quickchart(key) {\n",
              "          const quickchartButtonEl =\n",
              "            document.querySelector('#' + key + ' button');\n",
              "          quickchartButtonEl.disabled = true;  // To prevent multiple clicks.\n",
              "          quickchartButtonEl.classList.add('colab-df-spinner');\n",
              "          try {\n",
              "            const charts = await google.colab.kernel.invokeFunction(\n",
              "                'suggestCharts', [key], {});\n",
              "          } catch (error) {\n",
              "            console.error('Error during call to suggestCharts:', error);\n",
              "          }\n",
              "          quickchartButtonEl.classList.remove('colab-df-spinner');\n",
              "          quickchartButtonEl.classList.add('colab-df-quickchart-complete');\n",
              "        }\n",
              "        (() => {\n",
              "          let quickchartButtonEl =\n",
              "            document.querySelector('#df-0d3a0e8b-e250-4fa4-bc28-8b30017c7d7c button');\n",
              "          quickchartButtonEl.style.display =\n",
              "            google.colab.kernel.accessAllowed ? 'block' : 'none';\n",
              "        })();\n",
              "      </script>\n",
              "    </div>\n",
              "\n",
              "    </div>\n",
              "  </div>\n"
            ],
            "application/vnd.google.colaboratory.intrinsic+json": {
              "type": "dataframe",
              "summary": "{\n  \"name\": \"df\",\n  \"rows\": 8,\n  \"fields\": [\n    {\n      \"column\": \"Produksi\",\n      \"properties\": {\n        \"dtype\": \"number\",\n        \"std\": 1016.6252394969138,\n        \"min\": 20.0,\n        \"max\": 3000.0,\n        \"num_unique_values\": 8,\n        \"samples\": [\n          276.0,\n          100.0,\n          30.0\n        ],\n        \"semantic_type\": \"\",\n        \"description\": \"\"\n      }\n    },\n    {\n      \"column\": \"Modal\",\n      \"properties\": {\n        \"dtype\": \"number\",\n        \"std\": 16886881.25466708,\n        \"min\": 30.0,\n        \"max\": 50000000.0,\n        \"num_unique_values\": 8,\n        \"samples\": [\n          5025333.333333333,\n          1660000.0,\n          30.0\n        ],\n        \"semantic_type\": \"\",\n        \"description\": \"\"\n      }\n    },\n    {\n      \"column\": \"Lahan\",\n      \"properties\": {\n        \"dtype\": \"number\",\n        \"std\": 76.03153380898739,\n        \"min\": 20.0,\n        \"max\": 255.0,\n        \"num_unique_values\": 8,\n        \"samples\": [\n          70.36666666666666,\n          50.5,\n          30.0\n        ],\n        \"semantic_type\": \"\",\n        \"description\": \"\"\n      }\n    },\n    {\n      \"column\": \"Keterampilan\",\n      \"properties\": {\n        \"dtype\": \"number\",\n        \"std\": 26.81426174729616,\n        \"min\": 5.0,\n        \"max\": 90.0,\n        \"num_unique_values\": 8,\n        \"samples\": [\n          52.333333333333336,\n          57.5,\n          30.0\n        ],\n        \"semantic_type\": \"\",\n        \"description\": \"\"\n      }\n    },\n    {\n      \"column\": \"Pakan\",\n      \"properties\": {\n        \"dtype\": \"number\",\n        \"std\": 6626879.646215578,\n        \"min\": 30.0,\n        \"max\": 20000000.0,\n        \"num_unique_values\": 8,\n        \"samples\": [\n          2552333.3333333335,\n          1500000.0,\n          30.0\n        ],\n        \"semantic_type\": \"\",\n        \"description\": \"\"\n      }\n    }\n  ]\n}"
            }
          },
          "metadata": {},
          "execution_count": 4
        }
      ]
    },
    {
      "cell_type": "code",
      "source": [
        "# Pairplot visualisasi hubungan antar fitur\n",
        "sns.pairplot(df)\n",
        "plt.suptitle(\"Pairplot antar Fitur\", y=1.02)\n",
        "plt.show()"
      ],
      "metadata": {
        "colab": {
          "base_uri": "https://localhost:8080/",
          "height": 297
        },
        "id": "Z2UmJ88ol1sc",
        "outputId": "a94c8cfb-303a-4d33-9a55-8fab103794a2"
      },
      "execution_count": null,
      "outputs": [
        {
          "output_type": "display_data",
          "data": {
            "text/plain": [
              "<Figure size 1250x1250 with 30 Axes>"
            ],
            "image/png": "[encoded data removed]"
          },
          "metadata": {}
        }
      ]
    },
    {
      "cell_type": "markdown",
      "source": [
        "## 3. Regresi Linear Awal (Baseline)\n",
        "\n",
        "Sebelum preprocessing, saya coba model regresi linear dasar untuk melihat performa awal."
      ],
      "metadata": {
        "id": "9YUiT4KPoFcx"
      }
    },
    {
      "cell_type": "code",
      "source": [
        "# Pisahkan fitur dan target\n",
        "X = df[['Modal', 'Lahan', 'Keterampilan', 'Pakan']]\n",
        "y = df['Produksi']\n",
        "\n",
        "# Bagi data: 80% training, 20% testing\n",
        "X_train, X_test, y_train, y_test = train_test_split(X, y, test_size=0.2, random_state=42)"
      ],
      "metadata": {
        "id": "AYcmjGBN3Ys-"
      },
      "execution_count": null,
      "outputs": []
    },
    {
      "cell_type": "code",
      "source": [
        "# Buat dan latih model\n",
        "model = LinearRegression()\n",
        "model.fit(X_train, y_train)\n",
        "\n",
        "# Prediksi\n",
        "y_pred = model.predict(X_test)"
      ],
      "metadata": {
        "id": "ZLVyR5oa3beV"
      },
      "execution_count": null,
      "outputs": []
    },
    {
      "cell_type": "code",
      "source": [
        "# Hitung evaluasi\n",
        "r2 = r2_score(y_test, y_pred)\n",
        "mae = mean_absolute_error(y_test, y_pred)\n",
        "rmse = np.sqrt(mean_squared_error(y_test, y_pred))\n",
        "\n",
        "print(f\"R² Score: {r2:.2f}\")\n",
        "print(f\"MAE: {mae:.2f}\")\n",
        "print(f\"RMSE: {rmse:.2f}\")"
      ],
      "metadata": {
        "colab": {
          "base_uri": "https://localhost:8080/"
        },
        "id": "vL3hw44t3fNs",
        "outputId": "5cfc7450-8a92-44e5-b6e0-ceeea14ddcc4"
      },
      "execution_count": null,
      "outputs": [
        {
          "output_type": "stream",
          "name": "stdout",
          "text": [
            "R² Score: 0.02\n",
            "MAE: 335.09\n",
            "RMSE: 666.84\n"
          ]
        }
      ]
    },
    {
      "cell_type": "code",
      "source": [
        "# Koefisien dan Intercept\n",
        "for col, coef in zip(X.columns, model.coef_):\n",
        "    print(f\"{col}: {coef:.2f}\")\n",
        "print(f\"Intercept: {model.intercept_:.2f}\")"
      ],
      "metadata": {
        "colab": {
          "base_uri": "https://localhost:8080/"
        },
        "id": "vYg9ahXJ3k9b",
        "outputId": "c7c15172-12b9-4b17-f785-5744c454c507"
      },
      "execution_count": null,
      "outputs": [
        {
          "output_type": "stream",
          "name": "stdout",
          "text": [
            "Modal: 0.00\n",
            "Lahan: -0.13\n",
            "Keterampilan: 0.29\n",
            "Pakan: 0.00\n",
            "Intercept: -163.60\n"
          ]
        }
      ]
    },
    {
      "cell_type": "markdown",
      "source": [
        "##Interpretasi Awal\n",
        "**Evaluasi:**\n",
        "- R²: 0.02 → Model belum bisa jelaskan variasi produksi\n",
        "- MAE: 335.09 → Rata-rata kesalahan prediksi sebesar 335 ekor\n",
        "- RMSE: 506.81 → Ada prediksi yang sangat meleset\n",
        "\n",
        "**Koefisien:**\n",
        "- Keterampilan (+0.29) → Satu-satunya faktor yang cukup berpengaruh\n",
        "- Lahan (-0.13) → Perlu investigasi lebih lanjut\n",
        "- Modal dan Pakan (0.00) → Mungkin perlu di-scaling"
      ],
      "metadata": {
        "id": "Aj4t4eYtALY2"
      }
    },
    {
      "cell_type": "markdown",
      "source": [
        "## 4. Eksperimen Scaling (StandardScaler)\n",
        "\n",
        "Saya mencoba scaling data untuk melihat apakah dapat meningkatkan performa model."
      ],
      "metadata": {
        "id": "ioHIakBgprcD"
      }
    },
    {
      "cell_type": "code",
      "source": [
        "# Inisialisasi scaler\n",
        "scaler = StandardScaler()\n",
        "\n",
        "# Fit dan transform fitur\n",
        "X_scaled = scaler.fit_transform(X)\n",
        "\n",
        "# Split ulang data yang sudah di-scaling\n",
        "X_train_scaled, X_test_scaled, y_train, y_test = train_test_split(\n",
        "    X_scaled, y, test_size=0.2, random_state=42\n",
        ")"
      ],
      "metadata": {
        "id": "Iw2px5hj83SS"
      },
      "execution_count": null,
      "outputs": []
    },
    {
      "cell_type": "code",
      "source": [
        "#Buat data latih model scaling\n",
        "model_scaled = LinearRegression()\n",
        "model_scaled.fit(X_train_scaled, y_train)\n",
        "\n",
        "# Prediksi\n",
        "y_pred_scaled = model_scaled.predict(X_test_scaled)"
      ],
      "metadata": {
        "id": "UYb_efce87pb"
      },
      "execution_count": null,
      "outputs": []
    },
    {
      "cell_type": "code",
      "source": [
        "# Evaluasi hasil prediksi\n",
        "r2_scaled = r2_score(y_test, y_pred_scaled)\n",
        "mae_scaled = mean_absolute_error(y_test, y_pred_scaled)\n",
        "rmse_scaled = np.sqrt(mean_squared_error(y_test, y_pred_scaled))\n",
        "\n",
        "print(f\"[SETELAH SCALING]\")\n",
        "print(f\"R² Score: {r2_scaled:.2f}\")\n",
        "print(f\"MAE: {mae_scaled:.2f}\")\n",
        "print(f\"RMSE: {rmse_scaled:.2f}\")"
      ],
      "metadata": {
        "colab": {
          "base_uri": "https://localhost:8080/"
        },
        "id": "EW52Clgk881O",
        "outputId": "4f62bfe8-692b-4866-f465-05fedefee411"
      },
      "execution_count": null,
      "outputs": [
        {
          "output_type": "stream",
          "name": "stdout",
          "text": [
            "[SETELAH SCALING]\n",
            "R² Score: 0.02\n",
            "MAE: 335.09\n",
            "RMSE: 666.84\n"
          ]
        }
      ]
    },
    {
      "cell_type": "code",
      "source": [
        "# Koefisien model setelah scaling\n",
        "for col, coef in zip(X.columns, model_scaled.coef_):\n",
        "    print(f\"{col}: {coef:.2f}\")\n",
        "print(f\"Intercept: {model_scaled.intercept_:.2f}\")"
      ],
      "metadata": {
        "colab": {
          "base_uri": "https://localhost:8080/"
        },
        "id": "FaBRJ7pT-Xxl",
        "outputId": "95a71f95-67c5-4f85-8ce1-1d13ca8824fc"
      },
      "execution_count": null,
      "outputs": [
        {
          "output_type": "stream",
          "name": "stdout",
          "text": [
            "Modal: 83.02\n",
            "Lahan: -6.79\n",
            "Keterampilan: 7.09\n",
            "Pakan: 730.08\n",
            "Intercept: 339.32\n"
          ]
        }
      ]
    },
    {
      "cell_type": "markdown",
      "source": [
        "##Kesimpulan:\n",
        "\n",
        "Scaling berhasil membuat **koefisien jadi lebih proporsional**, tapi **tidak memperbaiki akurasi** model. Ini artinya:\n",
        "\n",
        "→ Masalah utamanya bukan skala fitur\n",
        "\n",
        "→ **Kemungkinan besar karena outlier dan kecilnya dataset**"
      ],
      "metadata": {
        "id": "97aYyvppqcWs"
      }
    },
    {
      "cell_type": "markdown",
      "source": [
        "## 5. Eksperimen Decision Tree Regressor\n",
        "\n",
        "Uji model non-linear yaitu Decision Tree."
      ],
      "metadata": {
        "id": "b00zXbNUqxEa"
      }
    },
    {
      "cell_type": "code",
      "source": [
        "# Buat model decision tree\n",
        "tree_model = DecisionTreeRegressor(random_state=42)\n",
        "tree_model.fit(X_train, y_train)  # tanpa scaling pun bisa\n",
        "\n",
        "# Prediksi dan evaluasi\n",
        "y_pred_tree = tree_model.predict(X_test)\n",
        "print(f\"[MODEL TREE]\")\n",
        "print(f\"R²: {r2_score(y_test, y_pred_tree):.2f}\")\n",
        "print(f\"MAE: {mean_absolute_error(y_test, y_pred_tree):.2f}\")\n",
        "print(f\"RMSE: {np.sqrt(mean_squared_error(y_test, y_pred_tree)):.2f}\")"
      ],
      "metadata": {
        "colab": {
          "base_uri": "https://localhost:8080/"
        },
        "id": "k2DN2qa7-Yn5",
        "outputId": "557a81ae-09ef-4133-b1b2-2314c72edaf6"
      },
      "execution_count": null,
      "outputs": [
        {
          "output_type": "stream",
          "name": "stdout",
          "text": [
            "[MODEL TREE]\n",
            "R²: -0.22\n",
            "MAE: 370.00\n",
            "RMSE: 745.99\n"
          ]
        }
      ]
    },
    {
      "cell_type": "markdown",
      "source": [
        "\n",
        "##Kesimpulan\n",
        "\n",
        "Decision Tree **mungkin terlalu overfit**, karena:\n",
        "\n",
        "\n",
        " → Dataset hanya 30 data\n",
        "\n",
        "\n",
        "\n",
        "→ Struktur datanya tidak punya pola jelas\n",
        "\n",
        "\n",
        "\n",
        "→ Belum pruning/pengaturan max_depth"
      ],
      "metadata": {
        "id": "BAxuZvIyAkae"
      }
    },
    {
      "cell_type": "markdown",
      "source": [
        "## 6. Deteksi dan Bersihkan Outlier\n",
        "\n",
        "Outlier berpotensi mempengaruhi model. Kita bersihkan outlier dari fitur yang sensitif."
      ],
      "metadata": {
        "id": "qH0kxdUO8SqO"
      }
    },
    {
      "cell_type": "code",
      "source": [
        "# Visualisasi boxplot untuk semua kolom (mendeteksi outlier)\n",
        "for col in df.columns:\n",
        "    plt.figure(figsize=(5, 2))\n",
        "    sns.boxplot(x=df[col])\n",
        "    plt.title(f\"Boxplot {col}\")\n",
        "    plt.show()"
      ],
      "metadata": {
        "colab": {
          "base_uri": "https://localhost:8080/",
          "height": 803
        },
        "id": "S6edC70FB9Mp",
        "outputId": "b2b0cb17-8411-4693-994d-e454f4eb0d3a"
      },
      "execution_count": null,
      "outputs": [
        {
          "output_type": "display_data",
          "data": {
            "text/plain": [
              "<Figure size 500x200 with 1 Axes>"
            ],
            "image/png": "[encoded data removed]"
          },
          "metadata": {}
        },
        {
          "output_type": "display_data",
          "data": {
            "text/plain": [
              "<Figure size 500x200 with 1 Axes>"
            ],
            "image/png": "[encoded data removed]"
          },
          "metadata": {}
        },
        {
          "output_type": "display_data",
          "data": {
            "text/plain": [
              "<Figure size 500x200 with 1 Axes>"
            ],
            "image/png": "[encoded data removed]"
          },
          "metadata": {}
        },
        {
          "output_type": "display_data",
          "data": {
            "text/plain": [
              "<Figure size 500x200 with 1 Axes>"
            ],
            "image/png": "[encoded data removed]"
          },
          "metadata": {}
        },
        {
          "output_type": "display_data",
          "data": {
            "text/plain": [
              "<Figure size 500x200 with 1 Axes>"
            ],
            "image/png": "[encoded data removed]"
          },
          "metadata": {}
        }
      ]
    },
    {
      "cell_type": "code",
      "source": [
        "# Fungsi hapus outlier IQR\n",
        "def remove_outliers_iqr(df, column):\n",
        "    Q1 = df[column].quantile(0.25)\n",
        "    Q3 = df[column].quantile(0.75)\n",
        "    IQR = Q3 - Q1\n",
        "    lower_bound = Q1 - 1.5 * IQR\n",
        "    upper_bound = Q3 + 1.5 * IQR\n",
        "    return df[(df[column] >= lower_bound) & (df[column] <= upper_bound)]\n",
        "\n",
        "# Bersihkan kolom yang ada outlier-nya\n",
        "df_clean = df.copy()\n",
        "for col in ['Produksi', 'Modal', 'Pakan', 'Lahan']:\n",
        "    df_clean = remove_outliers_iqr(df_clean, col)\n",
        "\n",
        "print(\"Jumlah data awal:\", len(df))\n",
        "print(\"Jumlah data setelah bersih:\", len(df_clean))"
      ],
      "metadata": {
        "colab": {
          "base_uri": "https://localhost:8080/"
        },
        "id": "xvFRWOVOCzBv",
        "outputId": "1708d0d3-80c5-4167-f017-86bbf182e209"
      },
      "execution_count": null,
      "outputs": [
        {
          "output_type": "stream",
          "name": "stdout",
          "text": [
            "Jumlah data awal: 30\n",
            "Jumlah data setelah bersih: 21\n"
          ]
        }
      ]
    },
    {
      "cell_type": "markdown",
      "source": [
        "## 7. Regresi Linear Setelah Outlier Dibersihkan"
      ],
      "metadata": {
        "id": "yp3d6wOA9Hcv"
      }
    },
    {
      "cell_type": "code",
      "source": [
        "# Split data bersih\n",
        "X_clean = df_clean[['Modal', 'Lahan', 'Keterampilan', 'Pakan']]\n",
        "y_clean = df_clean['Produksi']\n",
        "\n",
        "X_train_clean, X_test_clean, y_train_clean, y_test_clean = train_test_split(\n",
        "    X_clean, y_clean, test_size=0.2, random_state=42\n",
        ")\n",
        "\n",
        "# Model regresi baru\n",
        "model_clean = LinearRegression()\n",
        "model_clean.fit(X_train_clean, y_train_clean)\n",
        "y_pred_clean = model_clean.predict(X_test_clean)\n",
        "\n",
        "# Evaluasi\n",
        "r2_clean = r2_score(y_test_clean, y_pred_clean)\n",
        "mae_clean = mean_absolute_error(y_test_clean, y_pred_clean)\n",
        "rmse_clean = np.sqrt(mean_squared_error(y_test_clean, y_pred_clean))\n",
        "\n",
        "print(f\"[MODEL SETELAH OUTLIER DIHAPUS]\")\n",
        "print(f\"R² Score: {r2_clean:.2f}\")\n",
        "print(f\"MAE: {mae_clean:.2f}\")\n",
        "print(f\"RMSE: {rmse_clean:.2f}\")"
      ],
      "metadata": {
        "colab": {
          "base_uri": "https://localhost:8080/"
        },
        "id": "icK6wKJ_C4Km",
        "outputId": "80752411-325a-47cb-d652-c5bfe0ae5432"
      },
      "execution_count": null,
      "outputs": [
        {
          "output_type": "stream",
          "name": "stdout",
          "text": [
            "[MODEL SETELAH OUTLIER DIHAPUS]\n",
            "R² Score: 0.79\n",
            "MAE: 16.12\n",
            "RMSE: 18.69\n"
          ]
        }
      ]
    },
    {
      "cell_type": "code",
      "source": [
        "# Tampilkan koefisien model baru\n",
        "for col, coef in zip(X_clean.columns, model_clean.coef_):\n",
        "    print(f\"{col}: {coef:.2f}\")\n",
        "print(f\"Intercept: {model_clean.intercept_:.2f}\")"
      ],
      "metadata": {
        "id": "4HU8_6qnC7qX",
        "outputId": "bb93eeec-a5c0-4b66-afae-5c21d62dd36e",
        "colab": {
          "base_uri": "https://localhost:8080/"
        }
      },
      "execution_count": null,
      "outputs": [
        {
          "output_type": "stream",
          "name": "stdout",
          "text": [
            "Modal: -0.00\n",
            "Lahan: 0.29\n",
            "Keterampilan: 0.33\n",
            "Pakan: 0.00\n",
            "Intercept: -12.28\n"
          ]
        }
      ]
    },
    {
      "cell_type": "code",
      "source": [
        "plt.figure(figsize=(6, 4))\n",
        "plt.scatter(y_test_clean, y_pred_clean, color='blue', alpha=0.7)\n",
        "plt.plot([y_test_clean.min(), y_test_clean.max()],\n",
        "         [y_test_clean.min(), y_test_clean.max()],\n",
        "         'r--', lw=2)\n",
        "plt.xlabel('Produksi Aktual')\n",
        "plt.ylabel('Prediksi Model')\n",
        "plt.title('Prediksi vs Aktual Produksi Kelinci')\n",
        "plt.grid(True)\n",
        "plt.tight_layout()\n",
        "plt.show()"
      ],
      "metadata": {
        "colab": {
          "base_uri": "https://localhost:8080/",
          "height": 196
        },
        "id": "Kq31d3tsW_Tg",
        "outputId": "62a1c14b-1db9-45a1-c18b-c2466513ee17"
      },
      "execution_count": null,
      "outputs": [
        {
          "output_type": "display_data",
          "data": {
            "text/plain": [
              "<Figure size 600x400 with 1 Axes>"
            ],
            "image/png": "[encoded data removed]"
          },
          "metadata": {}
        }
      ]
    },
    {
      "cell_type": "code",
      "source": [
        "hasil_prediksi = pd.DataFrame({\n",
        "    \"Produksi Aktual\": y_test_clean.values,\n",
        "    \"Produksi Prediksi\": y_pred_clean\n",
        "})\n",
        "hasil_prediksi.to_csv(\"hasil_prediksi_kelinci.csv\", index=False)"
      ],
      "metadata": {
        "id": "QkLH_fgeczah"
      },
      "execution_count": null,
      "outputs": []
    },
    {
      "cell_type": "markdown",
      "source": [
        "### Kesimpulan\n",
        "Model regresi linear mampu memprediksi produksi kelinci berdasarkan modal, lahan, keterampilan, dan pakan, dengan hasil evaluasi:\n",
        "\n",
        "- R²: 0.79 — artinya 79% variasi produksi dapat dijelaskan oleh model.\n",
        "- MAE: 16.12 ekor\n",
        "- RMSE: 18.69 ekor\n",
        "\n",
        "Fitur yang paling berpengaruh adalah **keterampilan** dan **lahan**, sementara **modal** dan **pakan** tampaknya tidak signifikan.\n",
        "\n",
        "Hasil ini menunjukkan bahwa peningkatan keterampilan peternak dan pemanfaatan lahan yang optimal dapat membantu meningkatkan produksi kelinci."
      ],
      "metadata": {
        "id": "2u7ob0MVdx8D"
      }
    },
    {
      "cell_type": "markdown",
      "source": [
        "## 🙌 Terima Kasih\n",
        "Proyek ini dibuat sebagai bagian dari portofolio pribadi saya dalam bidang **data analysis & machine learning** dengan pendekatan sederhana namun berdampak nyata.  \n",
        "Saya terbuka untuk kolaborasi, diskusi, atau saran.  \n",
        "✨ Kontak saya: https://id.linkedin.com/in/oktavian-sahfira"
      ],
      "metadata": {
        "id": "G2RF3-tc-Oat"
      }
    }
  ]
}